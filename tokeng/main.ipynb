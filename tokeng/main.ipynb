{
 "cells": [
  {
   "cell_type": "code",
   "execution_count": 43,
   "metadata": {},
   "outputs": [],
   "source": [
    "import copy, math, matplotlib.pyplot as plt"
   ]
  },
  {
   "cell_type": "code",
   "execution_count": 44,
   "metadata": {},
   "outputs": [],
   "source": [
    "genesis = {\n",
    "    \"AMM\":{\"r_1\":100,\"r_2\":100,\"s\":100,\"fee\":0.00},\n",
    "    \"Trader\":{\"r_1\":100,\"r_2\":100,\"s\":0},\n",
    "    \"LP\":{\"r_1\":0,\"r_2\":0,\"s\":100}\n",
    "    }"
   ]
  },
  {
   "cell_type": "code",
   "execution_count": 45,
   "metadata": {},
   "outputs": [],
   "source": [
    "def swapToAsset2(state,inputs):\n",
    "    agent = inputs[0]\n",
    "    dA1 = inputs[1]\n",
    "    feeFactor = (1-state[\"AMM\"][\"fee\"])\n",
    "    dA2 = state[\"AMM\"][\"r_2\"]/(state[\"AMM\"][\"r_1\"]+dA1*feeFactor)*dA1*feeFactor\n",
    "    if dA1>0 and state[agent][\"r_1\"]-dA1 >= 0 :\n",
    "        state[\"AMM\"][\"r_1\"]+=dA1\n",
    "        state[agent][\"r_1\"]-=dA1\n",
    "        state[\"AMM\"][\"r_2\"]-=dA2\n",
    "        state[agent][\"r_2\"]+=dA2 \n",
    "        \n",
    "def swapToAsset1(state,inputs):\n",
    "    agent = inputs[0]\n",
    "    dA2 = inputs[1]\n",
    "    feeFactor = (1-state[\"AMM\"][\"fee\"])\n",
    "    dA1 = state[\"AMM\"][\"r_1\"]/(state[\"AMM\"][\"r_2\"]+dA2*feeFactor)*dA2*feeFactor\n",
    "    if dA2>0 and state[agent][\"r_2\"]-dA2 >= 0 :\n",
    "        state[\"AMM\"][\"r_2\"]+=dA2\n",
    "        state[agent][\"r_2\"]-=dA2\n",
    "        state[\"AMM\"][\"r_1\"]-=dA1\n",
    "        state[agent][\"r_1\"]+=dA1 \n",
    "\n",
    "def addLiquidity(state,inputs):\n",
    "    agent = inputs[0]\n",
    "    R1=state[\"AMM\"][\"r_1\"]\n",
    "    R2=state[\"AMM\"][\"r_2\"]\n",
    "    S= state[\"AMM\"][\"s\"]\n",
    "    dA1=min(inputs[1],R1/R2*inputs[2])\n",
    "    dA2=min(inputs[2],R2/R1*inputs[1])\n",
    "    if (dA1 <= state[agent][\"r_1\"] and dA2 <= state[agent][\"r_2\"]) and (dA1 > 0 and dA2 > 0):\n",
    "        state[agent][\"r_1\"]-=dA1\n",
    "        state[agent][\"r_2\"]-=dA2\n",
    "        state[\"AMM\"][\"r_1\"]+=dA1\n",
    "        state[\"AMM\"][\"r_2\"]+=dA2\n",
    "        dS = min(dA1/R1, dA2/R2) * S\n",
    "        state[\"AMM\"][\"s\"] += dS\n",
    "        state[agent][\"s\"]+=dS\n",
    "        \n",
    "def removeLiquidity(state,inputs):\n",
    "    dS = inputs[1]\n",
    "    agent = inputs[0]\n",
    "    if dS > 0 and state[agent][\"s\"]-dS>=0 and state[\"AMM\"][\"s\"]-dS>=0:\n",
    "        DR = (1-dS/state[\"AMM\"][\"s\"])\n",
    "        r_1=state[\"AMM\"][\"r_1\"]\n",
    "        r_2=state[\"AMM\"][\"r_2\"]\n",
    "        state[agent][\"s\"]-=dS\n",
    "        state[\"AMM\"][\"r_1\"]=r_1*DR\n",
    "        state[\"AMM\"][\"r_2\"]=r_2*DR\n",
    "        state[agent][\"r_1\"]+=r_1-state[\"AMM\"][\"r_1\"]\n",
    "        state[agent][\"r_2\"]+=r_2-state[\"AMM\"][\"r_2\"]\n",
    "        state[\"AMM\"][\"s\"]-=dS\n",
    "        \n",
    "\n",
    "def nice_print(self):\n",
    "    if type(self)==float:\n",
    "        return  round(self,3)\n",
    "    if type(self)==int:\n",
    "        return  self\n",
    "    if type(self)==list:\n",
    "        return  list(map(lambda l: print(l),self))\n",
    "    if type(self)==dict:\n",
    "        return  dict(map(lambda kv: (kv[0], print(kv[1])),self.items()))\n",
    "    \n",
    "def check_genesis_block(genesis, actionList):\n",
    "    for item in actionList:\n",
    "        if item[1][1] < 0:\n",
    "            print(f\"Error: a state block is not valid | {item}\")\n",
    "            return False\n",
    "    return True\n",
    "    \n",
    "def evolve(state, actionStack):\n",
    "    if not check_genesis_block(genesis, actionStack):\n",
    "        return False\n",
    "    history = [copy.deepcopy(state)]\n",
    "    for action in actionStack:\n",
    "        action[0](state,action[1])\n",
    "        history.append(copy.deepcopy(state))\n",
    "    return history \n",
    "\n",
    "def update_pool_fees(state, fee):\n",
    "    state[\"AMM\"][\"fee\"] = fee\n",
    "    \n",
    "def pctToAmount(pct):\n",
    "    if pct > 1:\n",
    "        return pct/100\n",
    "    if pct < 1:\n",
    "        return pct\n",
    "\n",
    "def swapToAsset2_pct(state,inputs):\n",
    "    swapToAsset2(state, [inputs[0], pctToAmount(inputs[1])(state[inputs[0]][\"r_1\"])])\n",
    "    \n",
    "def fiat_print_holdings(state, agent, token_1, token_2):\n",
    "    holdings = state[agent][token_1]*token_1 + state[agent][token_2]*token_2\n",
    "    print(f\"{agent} holds {holdings}: {state[agent][token_1]} {token_1} and {state[agent][token_2]} {token_2}\")\n",
    "    \n",
    "def invariant(state):\n",
    "    return state[\"AMM\"][\"r_1\"] * state[\"AMM\"][\"r_2\"]\n",
    "\n",
    "def asset1(state):\n",
    "    return state[\"AMM\"][\"r_1\"]+state[\"Trader\"][\"r_1\"]+state[\"LP\"][\"r_1\"]\n",
    "\n",
    "def asset2(state):\n",
    "    return state[\"AMM\"][\"r_2\"]+state[\"Trader\"][\"r_2\"]+state[\"LP\"][\"r_2\"]"
   ]
  },
  {
   "cell_type": "code",
   "execution_count": 46,
   "metadata": {},
   "outputs": [],
   "source": [
    "actionList = [\n",
    "        [ swapToAsset2 , [  \"Trader\" , 50 ]],\n",
    "        [ swapToAsset1 , [  \"Trader\" , 25 ]],\n",
    "        [ swapToAsset2 , [  \"Trader\" , -50 ]],\n",
    "]"
   ]
  },
  {
   "cell_type": "code",
   "execution_count": 47,
   "metadata": {},
   "outputs": [
    {
     "name": "stdout",
     "output_type": "stream",
     "text": [
      "Error: a state block is not valid | [<function swapToAsset2 at 0x109ab9480>, ['Trader', -50]]\n"
     ]
    },
    {
     "data": {
      "text/plain": [
       "{'AMM': {'r_1': 100, 'r_2': 100, 's': 100, 'fee': 0.0},\n",
       " 'Trader': {'r_1': 100, 'r_2': 100, 's': 0},\n",
       " 'LP': {'r_1': 0, 'r_2': 0, 's': 100}}"
      ]
     },
     "execution_count": 47,
     "metadata": {},
     "output_type": "execute_result"
    }
   ],
   "source": [
    "evolve(genesis,actionList)\n",
    "genesis"
   ]
  },
  {
   "cell_type": "code",
   "execution_count": 48,
   "metadata": {},
   "outputs": [
    {
     "data": {
      "text/plain": [
       "False"
      ]
     },
     "execution_count": 48,
     "metadata": {},
     "output_type": "execute_result"
    }
   ],
   "source": [
    "genesis = {\n",
    "    \"AMM\":{\"r_1\":100,\"r_2\":100,\"s\":100,\"fee\":0.0},\n",
    "    \"Trader\":{\"r_1\":100,\"r_2\":100,\"s\":0},\n",
    "    \"LP\":{\"r_1\":0,\"r_2\":0,\"s\":100}\n",
    "    }\n",
    "\n",
    "state = copy.deepcopy(genesis)\n",
    "\n",
    "swapToAsset2(state,[\"Trader\",13])\n",
    "\n",
    "invariant(genesis)==invariant(state)\n",
    "\n",
    "# set nonzero fees for the pool\n",
    "update_pool_fees(state, 0.01)\n",
    "# do a swap\n",
    "swapToAsset1(state,[\"Trader\",20])\n",
    "# check the invariant with message\n",
    "invariant(genesis)==invariant(state)"
   ]
  },
  {
   "cell_type": "code",
   "execution_count": 49,
   "metadata": {},
   "outputs": [
    {
     "data": {
      "text/plain": [
       "True"
      ]
     },
     "execution_count": 49,
     "metadata": {},
     "output_type": "execute_result"
    }
   ],
   "source": [
    "# testing token conservation individually\n",
    "genesis = {\n",
    "    \"AMM\":{\"r_1\":100,\"r_2\":100,\"s\":100,\"fee\":0.0},\n",
    "    \"Trader\":{\"r_1\":100,\"r_2\":100,\"s\":0},\n",
    "    \"LP\":{\"r_1\":0,\"r_2\":0,\"s\":100}\n",
    "    }\n",
    "\n",
    "state = copy.deepcopy(genesis)\n",
    "\n",
    "swapToAsset1(state,[\"Trader\",13])\n",
    "\n",
    "asset1(genesis)==asset1(state) and asset2(genesis)==asset2(state)"
   ]
  },
  {
   "cell_type": "code",
   "execution_count": 50,
   "metadata": {},
   "outputs": [
    {
     "data": {
      "text/plain": [
       "False"
      ]
     },
     "execution_count": 50,
     "metadata": {},
     "output_type": "execute_result"
    }
   ],
   "source": [
    "# testing the failing test with manipulated state\n",
    "genesis = {\n",
    "    \"AMM\":{\"r_1\":100,\"r_2\":100,\"s\":100,\"fee\":0.0},\n",
    "    \"Trader\":{\"r_1\":100,\"r_2\":100,\"s\":0},\n",
    "    \"LP\":{\"r_1\":0,\"r_2\":0,\"s\":100}\n",
    "    }\n",
    "\n",
    "state = {\n",
    "    \"AMM\":{\"r_1\":100,\"r_2\":100,\"s\":100,\"fee\":0.0},\n",
    "    \"Trader\":{\"r_1\":0,\"r_2\":100,\"s\":0},\n",
    "    \"LP\":{\"r_1\":0,\"r_2\":0,\"s\":100}\n",
    "    }\n",
    "    \n",
    "asset1(genesis)==asset1(state) and asset2(genesis)==asset2(state)"
   ]
  },
  {
   "cell_type": "code",
   "execution_count": 51,
   "metadata": {},
   "outputs": [],
   "source": [
    "# If you are doing the tests right, you usually produce far more source code for the tests than for the twin you are testing. It can easily be the case that the tests are twice as big as the system to be tested; even tests ten times bigger than the system of interest are nothing to worry about. Do not be greedy with your time when testing your system and try to think about as many test scenarios as possible! \n",
    "\n",
    "# We need to think about how the system should behave in more complex scenarios and which additional properties we can derive from that. One often important thing is reversibility: as long as the invariant is preserved, there should be an inverse action to every state transition."
   ]
  },
  {
   "cell_type": "code",
   "execution_count": 52,
   "metadata": {},
   "outputs": [
    {
     "data": {
      "text/plain": [
       "True"
      ]
     },
     "execution_count": 52,
     "metadata": {},
     "output_type": "execute_result"
    }
   ],
   "source": [
    "# We make sure that if we make two swaps of the same amount in opposite direction, we are back where we started. \n",
    "genesis = {\n",
    "    \"AMM\":{\"r_1\":100,\"r_2\":100,\"s\":100,\"fee\":0.0},\n",
    "    \"Trader\":{\"r_1\":100,\"r_2\":100,\"s\":0},\n",
    "    \"LP\":{\"r_1\":0,\"r_2\":0,\"s\":100}\n",
    "    }\n",
    "\n",
    "state = copy.deepcopy(genesis)\n",
    "\n",
    "swapToAsset1(state,[\"Trader\",13])\n",
    "\n",
    "gained = state[\"Trader\"][\"r_1\"] - genesis[\"Trader\"][\"r_1\"]\n",
    "\n",
    "swapToAsset2(state,[\"Trader\",gained])\n",
    "\n",
    "genesis == state"
   ]
  },
  {
   "cell_type": "code",
   "execution_count": 53,
   "metadata": {},
   "outputs": [
    {
     "data": {
      "text/plain": [
       "True"
      ]
     },
     "execution_count": 53,
     "metadata": {},
     "output_type": "execute_result"
    }
   ],
   "source": [
    "# Write a similar test for the liquidity systems that verifies that a genesis state is reproduced after inserting liquidity and removing it again.\n",
    "genesis = {\n",
    "    \"AMM\":{\"r_1\":100,\"r_2\":100,\"s\":100,\"fee\":0.0},\n",
    "    \"Trader\":{\"r_1\":100,\"r_2\":100,\"s\":0},\n",
    "    \"LP\":{\"r_1\":0,\"r_2\":0,\"s\":100}\n",
    "    }\n",
    "\n",
    "state = copy.deepcopy(genesis)\n",
    "\n",
    "addLiquidity(state,[\"Trader\",10,10])\n",
    "# testing the invariant\n",
    "invariant(genesis)==invariant(state)\n",
    "\n",
    "removeLiquidity(state,[\"Trader\",10])\n",
    "invariant(genesis)==invariant(state)"
   ]
  },
  {
   "cell_type": "code",
   "execution_count": 54,
   "metadata": {},
   "outputs": [
    {
     "name": "stdout",
     "output_type": "stream",
     "text": [
      "Unexpected exception formatting exception. Falling back to standard exception\n"
     ]
    },
    {
     "name": "stderr",
     "output_type": "stream",
     "text": [
      "Traceback (most recent call last):\n",
      "  File \"/Users/zakhar/Desktop/python/token eng/.venv/lib/python3.10/site-packages/IPython/core/interactiveshell.py\", line 3433, in run_code\n",
      "  File \"/var/folders/6s/xfrpp0xd2wlfbjl7gn_y82qw0000gn/T/ipykernel_58609/3597744766.py\", line 24, in <module>\n",
      "    plt.figure(figsize=(10,4))\n",
      "  File \"/Users/zakhar/Desktop/python/token eng/.venv/lib/python3.10/site-packages/matplotlib/_api/deprecation.py\", line 454, in wrapper\n",
      "  File \"/Users/zakhar/Desktop/python/token eng/.venv/lib/python3.10/site-packages/matplotlib/pyplot.py\", line 783, in figure\n",
      "  File \"/Users/zakhar/Desktop/python/token eng/.venv/lib/python3.10/site-packages/matplotlib/pyplot.py\", line 358, in new_figure_manager\n",
      "  File \"/Users/zakhar/Desktop/python/token eng/.venv/lib/python3.10/site-packages/matplotlib/pyplot.py\", line 336, in _warn_if_gui_out_of_main_thread\n",
      "  File \"/Users/zakhar/Desktop/python/token eng/.venv/lib/python3.10/site-packages/matplotlib/pyplot.py\", line 207, in _get_backend_mod\n",
      "  File \"/Users/zakhar/Desktop/python/token eng/.venv/lib/python3.10/site-packages/matplotlib/pyplot.py\", line 226, in switch_backend\n",
      "ModuleNotFoundError: No module named 'matplotlib.backends'\n",
      "\n",
      "During handling of the above exception, another exception occurred:\n",
      "\n",
      "Traceback (most recent call last):\n",
      "  File \"/Users/zakhar/Desktop/python/token eng/.venv/lib/python3.10/site-packages/pygments/styles/__init__.py\", line 82, in get_style_by_name\n",
      "ModuleNotFoundError: No module named 'pygments.styles.default'\n",
      "\n",
      "During handling of the above exception, another exception occurred:\n",
      "\n",
      "Traceback (most recent call last):\n",
      "  File \"/Users/zakhar/Desktop/python/token eng/.venv/lib/python3.10/site-packages/IPython/core/interactiveshell.py\", line 2052, in showtraceback\n",
      "  File \"/Users/zakhar/Desktop/python/token eng/.venv/lib/python3.10/site-packages/IPython/core/ultratb.py\", line 1118, in structured_traceback\n",
      "  File \"/Users/zakhar/Desktop/python/token eng/.venv/lib/python3.10/site-packages/IPython/core/ultratb.py\", line 1012, in structured_traceback\n",
      "  File \"/Users/zakhar/Desktop/python/token eng/.venv/lib/python3.10/site-packages/IPython/core/ultratb.py\", line 865, in structured_traceback\n",
      "  File \"/Users/zakhar/Desktop/python/token eng/.venv/lib/python3.10/site-packages/IPython/core/ultratb.py\", line 799, in format_exception_as_a_whole\n",
      "  File \"/Users/zakhar/Desktop/python/token eng/.venv/lib/python3.10/site-packages/IPython/core/ultratb.py\", line 844, in get_records\n",
      "  File \"/Users/zakhar/Desktop/python/token eng/.venv/lib/python3.10/site-packages/pygments/styles/__init__.py\", line 84, in get_style_by_name\n",
      "pygments.util.ClassNotFound: Could not find style module 'default', though it should be builtin.\n"
     ]
    }
   ],
   "source": [
    "# A longer simulation that implements multiple swap actions and plots the corresponding data. \n",
    "\n",
    "genesis = {\n",
    "    \"AMM\":{\"r_1\":99,\"r_2\":1,\"s\":math.sqrt(99),\"fee\":0.0},\n",
    "    \"Trader\":{\"r_1\":1,\"r_2\":99,\"s\":0},\n",
    "    \"Liquidator\":{\"r_1\":200,\"r_2\":200,\"s\":100}\n",
    "    }\n",
    "\n",
    "actionList= [ [swapToAsset1,[\"Trader\",1]] ] * 99\n",
    "\n",
    "history = evolve(genesis, actionList)\n",
    "\n",
    "AMM_r1=[]\n",
    "Trader_r1=[]\n",
    "AMM_r2=[]\n",
    "Trader_r2=[]\n",
    "for s in history:\n",
    "    AMM_r1.append(s[\"AMM\"][\"r_1\"])\n",
    "    Trader_r1.append(s[\"Trader\"][\"r_1\"])\n",
    "    AMM_r2.append(s[\"AMM\"][\"r_2\"])\n",
    "    Trader_r2.append(s[\"Trader\"][\"r_2\"])   \n",
    "\n",
    "\n",
    "plt.figure(figsize=(10,4)) \n",
    "    \n",
    "plt.subplot(1, 2, 1) \n",
    "plt.plot(AMM_r1,AMM_r2)\n",
    "plt.title('AMM')\n",
    "plt.xlabel(\"Asset 1\")\n",
    "plt.ylabel(\"Asset 2\")\n",
    "\n",
    "plt.subplot(1, 2, 2)\n",
    "plt.plot(Trader_r1,Trader_r2)\n",
    "plt.title('Trader')\n",
    "plt.xlabel(\"Asset 1\")\n",
    "plt.ylabel(\"Asset 2\")"
   ]
  },
  {
   "cell_type": "code",
   "execution_count": null,
   "metadata": {},
   "outputs": [],
   "source": []
  }
 ],
 "metadata": {
  "kernelspec": {
   "display_name": "Python 3.10.8 ('.venv': poetry)",
   "language": "python",
   "name": "python3"
  },
  "language_info": {
   "codemirror_mode": {
    "name": "ipython",
    "version": 3
   },
   "file_extension": ".py",
   "mimetype": "text/x-python",
   "name": "python",
   "nbconvert_exporter": "python",
   "pygments_lexer": "ipython3",
   "version": "3.10.8"
  },
  "orig_nbformat": 4,
  "vscode": {
   "interpreter": {
    "hash": "65f98a18f19fbb42434404f9df0a24cea9712647661cc2386a2ce6d4a308ecab"
   }
  }
 },
 "nbformat": 4,
 "nbformat_minor": 2
}
