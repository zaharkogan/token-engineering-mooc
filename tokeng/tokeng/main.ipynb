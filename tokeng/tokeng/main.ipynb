{
 "cells": [
  {
   "cell_type": "code",
   "execution_count": 1,
   "metadata": {},
   "outputs": [],
   "source": [
    "import copy"
   ]
  },
  {
   "cell_type": "code",
   "execution_count": 2,
   "metadata": {},
   "outputs": [],
   "source": [
    "genesis = {\n",
    "    \"AMM\":{\"r_1\":100,\"r_2\":100,\"s\":100,\"fee\":0.00},\n",
    "    \"Trader\":{\"r_1\":100,\"r_2\":100,\"s\":0},\n",
    "    \"LP\":{\"r_1\":0,\"r_2\":0,\"s\":100}\n",
    "    }"
   ]
  },
  {
   "cell_type": "code",
   "execution_count": 3,
   "metadata": {},
   "outputs": [],
   "source": [
    "def swapToAsset2(state,inputs):\n",
    "    agent = inputs[0]\n",
    "    dA1 = inputs[1]\n",
    "    feeFactor = (1-state[\"AMM\"][\"fee\"])\n",
    "    dA2 = state[\"AMM\"][\"r_2\"]/(state[\"AMM\"][\"r_1\"]+dA1*feeFactor)*dA1*feeFactor\n",
    "    if dA1>0 and state[agent][\"r_1\"]-dA1 >= 0 :\n",
    "        state[\"AMM\"][\"r_1\"]+=dA1\n",
    "        state[agent][\"r_1\"]-=dA1\n",
    "        state[\"AMM\"][\"r_2\"]-=dA2\n",
    "        state[agent][\"r_2\"]+=dA2 \n",
    "        \n",
    "def swapToAsset1(state,inputs):\n",
    "    agent = inputs[0]\n",
    "    dA2 = inputs[1]\n",
    "    feeFactor = (1-state[\"AMM\"][\"fee\"])\n",
    "    dA1 = state[\"AMM\"][\"r_1\"]/(state[\"AMM\"][\"r_2\"]+dA2*feeFactor)*dA2*feeFactor\n",
    "    if dA2>0 and state[agent][\"r_2\"]-dA2 >= 0 :\n",
    "        state[\"AMM\"][\"r_2\"]+=dA2\n",
    "        state[agent][\"r_2\"]-=dA2\n",
    "        state[\"AMM\"][\"r_1\"]-=dA1\n",
    "        state[agent][\"r_1\"]+=dA1 \n",
    "        \n",
    "def removeLiquidity(state,inputs):\n",
    "    dS = inputs[1]\n",
    "    agent = inputs[0]\n",
    "    if dS > 0 and state[agent][\"s\"]-dS>=0 and state[\"AMM\"][\"s\"]-dS>=0:\n",
    "        DR = (1-dS/state[\"AMM\"][\"s\"])\n",
    "        r_1=state[\"AMM\"][\"r_1\"]\n",
    "        r_2=state[\"AMM\"][\"r_2\"]\n",
    "        state[agent][\"s\"]-=dS\n",
    "        state[\"AMM\"][\"r_1\"]=r_1*DR\n",
    "        state[\"AMM\"][\"r_2\"]=r_2*DR\n",
    "        state[agent][\"r_1\"]+=r_1-state[\"AMM\"][\"r_1\"]\n",
    "        state[agent][\"r_2\"]+=r_2-state[\"AMM\"][\"r_2\"]\n",
    "        state[\"AMM\"][\"s\"]-=dS\n",
    "        \n",
    "\n",
    "def nice_print(self):\n",
    "    if type(self)==float:\n",
    "        return  round(self,3)\n",
    "    if type(self)==int:\n",
    "        return  self\n",
    "    if type(self)==list:\n",
    "        return  list(map(lambda l: print(l),self))\n",
    "    if type(self)==dict:\n",
    "        return  dict(map(lambda kv: (kv[0], print(kv[1])),self.items()))\n",
    "    \n",
    "def evolve(state, actionStack):\n",
    "    history = [copy.deepcopy(state)]\n",
    "    for action in actionStack:\n",
    "        action[0](state,action[1])\n",
    "        history.append(copy.deepcopy(state))\n",
    "    return history "
   ]
  },
  {
   "cell_type": "code",
   "execution_count": 4,
   "metadata": {},
   "outputs": [],
   "source": [
    "actionList = [\n",
    "        [ swapToAsset2 , [  \"Trader\" , 50 ]],\n",
    "        [ swapToAsset1 , [  \"Trader\" , 25 ]],\n",
    "]"
   ]
  },
  {
   "cell_type": "code",
   "execution_count": 5,
   "metadata": {},
   "outputs": [
    {
     "data": {
      "text/plain": [
       "{'AMM': {'r_1': 109.0909090909091,\n",
       "  'r_2': 91.66666666666667,\n",
       "  's': 100,\n",
       "  'fee': 0.0},\n",
       " 'Trader': {'r_1': 90.9090909090909, 'r_2': 108.33333333333331, 's': 0},\n",
       " 'LP': {'r_1': 0, 'r_2': 0, 's': 100}}"
      ]
     },
     "execution_count": 5,
     "metadata": {},
     "output_type": "execute_result"
    }
   ],
   "source": [
    "evolve(genesis,actionList)\n",
    "genesis"
   ]
  },
  {
   "cell_type": "code",
   "execution_count": null,
   "metadata": {},
   "outputs": [],
   "source": [
    "def check_genesis_block(genesis, actionList):\n",
    "    for item in actionList:\n",
    "        if item[1][1] < 0:\n",
    "            return False\n",
    "    return True"
   ]
  }
 ],
 "metadata": {
  "kernelspec": {
   "display_name": "Python 3.11.0 64-bit",
   "language": "python",
   "name": "python3"
  },
  "language_info": {
   "codemirror_mode": {
    "name": "ipython",
    "version": 3
   },
   "file_extension": ".py",
   "mimetype": "text/x-python",
   "name": "python",
   "nbconvert_exporter": "python",
   "pygments_lexer": "ipython3",
   "version": "3.11.0"
  },
  "orig_nbformat": 4,
  "vscode": {
   "interpreter": {
    "hash": "5c7b89af1651d0b8571dde13640ecdccf7d5a6204171d6ab33e7c296e100e08a"
   }
  }
 },
 "nbformat": 4,
 "nbformat_minor": 2
}
